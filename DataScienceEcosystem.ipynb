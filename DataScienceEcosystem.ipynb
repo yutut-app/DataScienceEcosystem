{
 "cells": [
  {
   "cell_type": "markdown",
   "id": "cb9341f9",
   "metadata": {},
   "source": [
    "# Data Science Tools and Ecosystem"
   ]
  },
  {
   "cell_type": "markdown",
   "id": "bbd33be4",
   "metadata": {},
   "source": [
    "In this notebook, Data Science Tools and Ecosystem are summarized."
   ]
  },
  {
   "cell_type": "markdown",
   "id": "a755d6cd",
   "metadata": {},
   "source": [
    "Objectives:\n",
    "* Create a Jupyter Notebook with markdown and code cells\n",
    "\n",
    "* List examples of languages, libraries and tools used in Data Science\n",
    "\n",
    "* Share your Jupyter Notebook publicly on GitHub\n",
    "\n",
    "* Evaluate notebooks submitted by your peers using the provided rubric\n",
    "\n",
    "* Demonstrate proficiency in Data Science toolkit knowledge"
   ]
  },
  {
   "cell_type": "markdown",
   "id": "1a318dce",
   "metadata": {},
   "source": [
    "Some of the popular languages that Data Scientists use are:\n",
    "1. Python\n",
    "2.  R\n",
    "3. Java"
   ]
  },
  {
   "cell_type": "markdown",
   "id": "56093171",
   "metadata": {},
   "source": [
    "Some of the commonly used libraries used by Data Scientists include:\n",
    "1. Numpy\n",
    "2. Pandas\n",
    "3. Matplotlib"
   ]
  },
  {
   "cell_type": "markdown",
   "id": "a0110b64",
   "metadata": {},
   "source": [
    "Data Science Tools"
   ]
  },
  {
   "cell_type": "code",
   "execution_count": 21,
   "id": "52e93bcd",
   "metadata": {
    "scrolled": false
   },
   "outputs": [
    {
     "name": "stdout",
     "output_type": "stream",
     "text": [
      "Requirement already satisfied: pandas in c:\\users\\s212338\\appdata\\local\\anaconda3\\envs\\rp_env\\lib\\site-packages (2.0.3)\n",
      "Requirement already satisfied: python-dateutil>=2.8.2 in c:\\users\\s212338\\appdata\\local\\anaconda3\\envs\\rp_env\\lib\\site-packages (from pandas) (2.8.2)\n",
      "Requirement already satisfied: pytz>=2020.1 in c:\\users\\s212338\\appdata\\local\\anaconda3\\envs\\rp_env\\lib\\site-packages (from pandas) (2023.3)\n",
      "Requirement already satisfied: tzdata>=2022.1 in c:\\users\\s212338\\appdata\\local\\anaconda3\\envs\\rp_env\\lib\\site-packages (from pandas) (2023.3)\n",
      "Requirement already satisfied: numpy>=1.21.0 in c:\\users\\s212338\\appdata\\local\\anaconda3\\envs\\rp_env\\lib\\site-packages (from pandas) (1.25.1)\n",
      "Requirement already satisfied: six>=1.5 in c:\\users\\s212338\\appdata\\local\\anaconda3\\envs\\rp_env\\lib\\site-packages (from python-dateutil>=2.8.2->pandas) (1.16.0)\n",
      "              tools\n",
      "0        jupyterLab\n",
      "1  Jupyter notebook\n",
      "2           Rstudio\n"
     ]
    }
   ],
   "source": [
    "! pip install pandas\n",
    "import pandas as pd\n",
    "df = pd.DataFrame(data = [\"jupyterLab\",\"Jupyter notebook\",\"Rstudio\"], columns = [\"tools\"])\n",
    "print(df)"
   ]
  },
  {
   "cell_type": "markdown",
   "id": "f95bb2d4",
   "metadata": {},
   "source": [
    "### Below are a few examples of evaluating arithmetic expressions in Python"
   ]
  },
  {
   "cell_type": "markdown",
   "id": "29b622b6",
   "metadata": {},
   "source": [
    " This a simple arithmetic expression to mutiply then add integers"
   ]
  },
  {
   "cell_type": "code",
   "execution_count": 22,
   "id": "9512b0ad",
   "metadata": {},
   "outputs": [
    {
     "name": "stdout",
     "output_type": "stream",
     "text": [
      "17\n"
     ]
    }
   ],
   "source": [
    "print((3*4)+5)"
   ]
  },
  {
   "cell_type": "markdown",
   "id": "bbcb63c1",
   "metadata": {},
   "source": [
    "This will convert 200 minutes to hours by diving by 60"
   ]
  },
  {
   "cell_type": "code",
   "execution_count": 28,
   "id": "b5415fbe",
   "metadata": {},
   "outputs": [
    {
     "name": "stdout",
     "output_type": "stream",
     "text": [
      "200 [min]\n",
      "3.3333333333333335 [h]\n"
     ]
    }
   ],
   "source": [
    "minutes_display = 200\n",
    "print(minutes_display,\"[min]\")\n",
    "hours_display= 200/60\n",
    "print(hours_display,\"[h]\")"
   ]
  },
  {
   "cell_type": "markdown",
   "id": "d37cc41b",
   "metadata": {},
   "source": [
    "## Author\n",
    "yuya suzki"
   ]
  },
  {
   "cell_type": "code",
   "execution_count": null,
   "id": "997eeb67",
   "metadata": {},
   "outputs": [],
   "source": []
  }
 ],
 "metadata": {
  "kernelspec": {
   "display_name": "Python 3 (ipykernel)",
   "language": "python",
   "name": "python3"
  },
  "language_info": {
   "codemirror_mode": {
    "name": "ipython",
    "version": 3
   },
   "file_extension": ".py",
   "mimetype": "text/x-python",
   "name": "python",
   "nbconvert_exporter": "python",
   "pygments_lexer": "ipython3",
   "version": "3.11.4"
  }
 },
 "nbformat": 4,
 "nbformat_minor": 5
}
